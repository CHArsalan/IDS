{
 "cells": [
  {
   "cell_type": "markdown",
   "id": "389a7ea7-1e6b-4278-b301-b48e180dbe1e",
   "metadata": {},
   "source": [
    "# Data Science Notebook\n"
   ]
  },
  {
   "cell_type": "markdown",
   "id": "e5b08804-a81c-4908-999a-572d6f2cf5c2",
   "metadata": {
    "jp-MarkdownHeadingCollapsed": true
   },
   "source": [
    "## Introduction\n",
    "This notebook provides an overview of basic data science concepts and exercises, including arithmetic operations, data science languages, libraries, and tools.\n"
   ]
  },
  {
   "cell_type": "markdown",
   "id": "5ba7cc4b-b1fd-47a5-b259-dc50b90f95fa",
   "metadata": {
    "jp-MarkdownHeadingCollapsed": true
   },
   "source": [
    "## Data Science Languages\n",
    "- Python\n",
    "- R\n",
    "- SQL\n",
    "- Java\n",
    "- Julia\n"
   ]
  },
  {
   "cell_type": "markdown",
   "id": "7be3638d-960e-431c-8389-99d9e37353f8",
   "metadata": {},
   "source": [
    "## Data Science Libraries\n",
    "- Pandas\n",
    "- NumPy\n",
    "- Matplotlib\n",
    "- Scikit-learn\n",
    "- TensorFlow\n",
    "- Keras\n"
   ]
  },
  {
   "cell_type": "markdown",
   "id": "c977a722-6562-48b9-b175-15d8255372b9",
   "metadata": {},
   "source": [
    "## Data Science Tools\n",
    "\n",
    "| Tool          | Description                            |\n",
    "| ------------- | -------------------------------------- |\n",
    "| Jupyter      | An open-source web app for creating and sharing documents with live code. |\n",
    "| GitHub       | A platform for version control and collaboration. |\n",
    "| Tableau      | A data visualization tool used to create dashboards and reports. |\n",
    "| Hadoop       | A framework for distributed storage and processing of big data. |\n",
    "| Excel        | A spreadsheet tool for data manipulation and analysis. |\n"
   ]
  },
  {
   "cell_type": "markdown",
   "id": "3fca0240-27c6-4f29-853e-843975941938",
   "metadata": {},
   "source": [
    "## Arithmetic Expression Examples\n",
    "Here we will perform basic arithmetic operations like addition, subtraction, multiplication, and division.\n"
   ]
  },
  {
   "cell_type": "markdown",
   "id": "16b1a74d-7faa-4675-a17e-5670b75ea146",
   "metadata": {},
   "source": [
    "# Example of arithmetic operations\n",
    "\n"
   ]
  },
  {
   "cell_type": "code",
   "execution_count": 16,
   "id": "0b8098ec-5fa5-4553-bd9d-cf6995868f71",
   "metadata": {},
   "outputs": [
    {
     "data": {
      "text/plain": [
       "(15, 8)"
      ]
     },
     "execution_count": 16,
     "metadata": {},
     "output_type": "execute_result"
    }
   ],
   "source": [
    "a = 5\n",
    "b = 3\n",
    "result_multiply = a * b\n",
    "result_add = a + b\n",
    "result_multiply, result_add\n"
   ]
  },
  {
   "cell_type": "markdown",
   "id": "e3acbda3-e3ee-439b-8696-72b55b8d791a",
   "metadata": {},
   "source": [
    "## Exercise 9 - Create a code cell to convert minutes to hours.\n"
   ]
  },
  {
   "cell_type": "code",
   "execution_count": 30,
   "id": "24ade84f-f465-44a7-9b51-e7e34917e371",
   "metadata": {},
   "outputs": [
    {
     "data": {
      "text/plain": [
       "2.0"
      ]
     },
     "execution_count": 30,
     "metadata": {},
     "output_type": "execute_result"
    }
   ],
   "source": [
    "# Convert minutes to hours\n",
    "minutes = 120\n",
    "hours = minutes / 60\n",
    "hours\n"
   ]
  },
  {
   "cell_type": "markdown",
   "id": "44935e22-a388-4d15-beeb-67f968839ca3",
   "metadata": {},
   "source": [
    "## Exercise 10 - Insert a markdown cell to list Objectives.\n"
   ]
  },
  {
   "cell_type": "markdown",
   "id": "71a8cbbf-797c-46b7-a1f0-a271b756e745",
   "metadata": {},
   "source": [
    "## Arithmetic Expression Examples\n",
    "Here we will perform basic arithmetic operations like addition, subtraction, multiplication, and division.\n"
   ]
  },
  {
   "cell_type": "markdown",
   "id": "a2517342-3f95-42f9-9074-aac767f53085",
   "metadata": {},
   "source": [
    "## Objectives\n",
    "- Understand and implement basic arithmetic operations in Python.\n",
    "- Learn about common data science languages and libraries.\n",
    "- Understand how to work with data science tools.\n"
   ]
  },
  {
   "cell_type": "markdown",
   "id": "84addbd7-9a79-461e-8b7a-75f5be1ee3f7",
   "metadata": {},
   "source": [
    "## Exercise 11 - Create a markdown cell to indicate the Author’s name.\n"
   ]
  },
  {
   "cell_type": "code",
   "execution_count": null,
   "id": "f3306f3e-d1f5-4f6b-9ee4-70d2a9857fb8",
   "metadata": {},
   "outputs": [],
   "source": []
  }
 ],
 "metadata": {
  "kernelspec": {
   "display_name": "Python [conda env:base] *",
   "language": "python",
   "name": "conda-base-py"
  },
  "language_info": {
   "codemirror_mode": {
    "name": "ipython",
    "version": 3
   },
   "file_extension": ".py",
   "mimetype": "text/x-python",
   "name": "python",
   "nbconvert_exporter": "python",
   "pygments_lexer": "ipython3",
   "version": "3.12.7"
  }
 },
 "nbformat": 4,
 "nbformat_minor": 5
}
